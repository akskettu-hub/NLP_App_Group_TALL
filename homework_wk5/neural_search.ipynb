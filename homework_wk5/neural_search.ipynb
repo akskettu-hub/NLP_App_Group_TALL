{
 "cells": [
  {
   "cell_type": "code",
   "execution_count": 7,
   "id": "501398d0-fe72-4e37-bbb7-984bf2dc2d21",
   "metadata": {},
   "outputs": [
    {
     "name": "stderr",
     "output_type": "stream",
     "text": [
      "huggingface/tokenizers: The current process just got forked, after parallelism has already been used. Disabling parallelism to avoid deadlocks...\n",
      "To disable this warning, you can either:\n",
      "\t- Avoid using `tokenizers` before the fork if possible\n",
      "\t- Explicitly set the environment variable TOKENIZERS_PARALLELISM=(true | false)\n"
     ]
    },
    {
     "name": "stdout",
     "output_type": "stream",
     "text": [
      "Requirement already satisfied: sentence-transformers in /home/tkzang/myenv/lib/python3.12/site-packages (3.4.1)\n",
      "Requirement already satisfied: transformers<5.0.0,>=4.41.0 in /home/tkzang/myenv/lib/python3.12/site-packages (from sentence-transformers) (4.48.3)\n",
      "Requirement already satisfied: tqdm in /home/tkzang/myenv/lib/python3.12/site-packages (from sentence-transformers) (4.67.1)\n",
      "Requirement already satisfied: torch>=1.11.0 in /home/tkzang/myenv/lib/python3.12/site-packages (from sentence-transformers) (2.5.1)\n",
      "Requirement already satisfied: scikit-learn in /home/tkzang/myenv/lib/python3.12/site-packages (from sentence-transformers) (1.6.0)\n",
      "Requirement already satisfied: scipy in /home/tkzang/myenv/lib/python3.12/site-packages (from sentence-transformers) (1.13.1)\n",
      "Requirement already satisfied: huggingface-hub>=0.20.0 in /home/tkzang/myenv/lib/python3.12/site-packages (from sentence-transformers) (0.28.1)\n",
      "Requirement already satisfied: Pillow in /home/tkzang/myenv/lib/python3.12/site-packages (from sentence-transformers) (11.1.0)\n",
      "Requirement already satisfied: filelock in /home/tkzang/myenv/lib/python3.12/site-packages (from huggingface-hub>=0.20.0->sentence-transformers) (3.16.1)\n",
      "Requirement already satisfied: fsspec>=2023.5.0 in /home/tkzang/myenv/lib/python3.12/site-packages (from huggingface-hub>=0.20.0->sentence-transformers) (2024.12.0)\n",
      "Requirement already satisfied: packaging>=20.9 in /home/tkzang/myenv/lib/python3.12/site-packages (from huggingface-hub>=0.20.0->sentence-transformers) (24.2)\n",
      "Requirement already satisfied: pyyaml>=5.1 in /home/tkzang/myenv/lib/python3.12/site-packages (from huggingface-hub>=0.20.0->sentence-transformers) (6.0.2)\n",
      "Requirement already satisfied: requests in /home/tkzang/myenv/lib/python3.12/site-packages (from huggingface-hub>=0.20.0->sentence-transformers) (2.32.3)\n",
      "Requirement already satisfied: typing-extensions>=3.7.4.3 in /home/tkzang/myenv/lib/python3.12/site-packages (from huggingface-hub>=0.20.0->sentence-transformers) (4.12.2)\n",
      "Requirement already satisfied: networkx in /home/tkzang/myenv/lib/python3.12/site-packages (from torch>=1.11.0->sentence-transformers) (3.4.2)\n",
      "Requirement already satisfied: jinja2 in /home/tkzang/myenv/lib/python3.12/site-packages (from torch>=1.11.0->sentence-transformers) (3.1.5)\n",
      "Requirement already satisfied: nvidia-cuda-nvrtc-cu12==12.4.127 in /home/tkzang/myenv/lib/python3.12/site-packages (from torch>=1.11.0->sentence-transformers) (12.4.127)\n",
      "Requirement already satisfied: nvidia-cuda-runtime-cu12==12.4.127 in /home/tkzang/myenv/lib/python3.12/site-packages (from torch>=1.11.0->sentence-transformers) (12.4.127)\n",
      "Requirement already satisfied: nvidia-cuda-cupti-cu12==12.4.127 in /home/tkzang/myenv/lib/python3.12/site-packages (from torch>=1.11.0->sentence-transformers) (12.4.127)\n",
      "Requirement already satisfied: nvidia-cudnn-cu12==9.1.0.70 in /home/tkzang/myenv/lib/python3.12/site-packages (from torch>=1.11.0->sentence-transformers) (9.1.0.70)\n",
      "Requirement already satisfied: nvidia-cublas-cu12==12.4.5.8 in /home/tkzang/myenv/lib/python3.12/site-packages (from torch>=1.11.0->sentence-transformers) (12.4.5.8)\n",
      "Requirement already satisfied: nvidia-cufft-cu12==11.2.1.3 in /home/tkzang/myenv/lib/python3.12/site-packages (from torch>=1.11.0->sentence-transformers) (11.2.1.3)\n",
      "Requirement already satisfied: nvidia-curand-cu12==10.3.5.147 in /home/tkzang/myenv/lib/python3.12/site-packages (from torch>=1.11.0->sentence-transformers) (10.3.5.147)\n",
      "Requirement already satisfied: nvidia-cusolver-cu12==11.6.1.9 in /home/tkzang/myenv/lib/python3.12/site-packages (from torch>=1.11.0->sentence-transformers) (11.6.1.9)\n",
      "Requirement already satisfied: nvidia-cusparse-cu12==12.3.1.170 in /home/tkzang/myenv/lib/python3.12/site-packages (from torch>=1.11.0->sentence-transformers) (12.3.1.170)\n",
      "Requirement already satisfied: nvidia-nccl-cu12==2.21.5 in /home/tkzang/myenv/lib/python3.12/site-packages (from torch>=1.11.0->sentence-transformers) (2.21.5)\n",
      "Requirement already satisfied: nvidia-nvtx-cu12==12.4.127 in /home/tkzang/myenv/lib/python3.12/site-packages (from torch>=1.11.0->sentence-transformers) (12.4.127)\n",
      "Requirement already satisfied: nvidia-nvjitlink-cu12==12.4.127 in /home/tkzang/myenv/lib/python3.12/site-packages (from torch>=1.11.0->sentence-transformers) (12.4.127)\n",
      "Requirement already satisfied: triton==3.1.0 in /home/tkzang/myenv/lib/python3.12/site-packages (from torch>=1.11.0->sentence-transformers) (3.1.0)\n",
      "Requirement already satisfied: setuptools in /home/tkzang/myenv/lib/python3.12/site-packages (from torch>=1.11.0->sentence-transformers) (75.6.0)\n",
      "Requirement already satisfied: sympy==1.13.1 in /home/tkzang/myenv/lib/python3.12/site-packages (from torch>=1.11.0->sentence-transformers) (1.13.1)\n",
      "Requirement already satisfied: mpmath<1.4,>=1.1.0 in /home/tkzang/myenv/lib/python3.12/site-packages (from sympy==1.13.1->torch>=1.11.0->sentence-transformers) (1.3.0)\n",
      "Requirement already satisfied: numpy>=1.17 in /home/tkzang/myenv/lib/python3.12/site-packages (from transformers<5.0.0,>=4.41.0->sentence-transformers) (1.26.4)\n",
      "Requirement already satisfied: regex!=2019.12.17 in /home/tkzang/myenv/lib/python3.12/site-packages (from transformers<5.0.0,>=4.41.0->sentence-transformers) (2024.11.6)\n",
      "Requirement already satisfied: tokenizers<0.22,>=0.21 in /home/tkzang/myenv/lib/python3.12/site-packages (from transformers<5.0.0,>=4.41.0->sentence-transformers) (0.21.0)\n",
      "Requirement already satisfied: safetensors>=0.4.1 in /home/tkzang/myenv/lib/python3.12/site-packages (from transformers<5.0.0,>=4.41.0->sentence-transformers) (0.5.2)\n",
      "Requirement already satisfied: joblib>=1.2.0 in /home/tkzang/myenv/lib/python3.12/site-packages (from scikit-learn->sentence-transformers) (1.4.2)\n",
      "Requirement already satisfied: threadpoolctl>=3.1.0 in /home/tkzang/myenv/lib/python3.12/site-packages (from scikit-learn->sentence-transformers) (3.5.0)\n",
      "Requirement already satisfied: MarkupSafe>=2.0 in /home/tkzang/myenv/lib/python3.12/site-packages (from jinja2->torch>=1.11.0->sentence-transformers) (3.0.2)\n",
      "Requirement already satisfied: charset-normalizer<4,>=2 in /home/tkzang/myenv/lib/python3.12/site-packages (from requests->huggingface-hub>=0.20.0->sentence-transformers) (3.4.1)\n",
      "Requirement already satisfied: idna<4,>=2.5 in /home/tkzang/myenv/lib/python3.12/site-packages (from requests->huggingface-hub>=0.20.0->sentence-transformers) (3.10)\n",
      "Requirement already satisfied: urllib3<3,>=1.21.1 in /home/tkzang/myenv/lib/python3.12/site-packages (from requests->huggingface-hub>=0.20.0->sentence-transformers) (2.3.0)\n",
      "Requirement already satisfied: certifi>=2017.4.17 in /home/tkzang/myenv/lib/python3.12/site-packages (from requests->huggingface-hub>=0.20.0->sentence-transformers) (2024.12.14)\n"
     ]
    }
   ],
   "source": [
    "## Dependencies for semantic/neural search:\n",
    "import numpy as np\n",
    "!pip install sentence-transformers\n",
    "# We use a pretrained model from https://huggingface.co/sentence-transformers/all-MiniLM-L6-v2\n",
    "from sentence_transformers import SentenceTransformer\n",
    "model = SentenceTransformer('all-MiniLM-L6-v2')  # We can change it to a better model if we find one\n",
    "import json\n",
    "import re # for exact match\n",
    "from nltk.stem import SnowballStemmer # for Finnish stemming\n",
    "stemmer = SnowballStemmer(\"finnish\")\n",
    "import matplotlib.pyplot as plt"
   ]
  },
  {
   "cell_type": "code",
   "execution_count": null,
   "id": "41b135d2-c5f1-47b6-bac2-c6c1c7af772f",
   "metadata": {},
   "outputs": [
    {
     "name": "stdout",
     "output_type": "stream",
     "text": [
      "\n"
     ]
    },
    {
     "name": "stdout",
     "output_type": "stream",
     "text": [
      "Please Enter your query, type 'quit' to exit:  yhtiöjärjestykseen\n"
     ]
    },
    {
     "name": "stdout",
     "output_type": "stream",
     "text": [
      "Your query \"yhtiöjärjestykseen\" matches 20 documents.\n",
      "Here are the top 3 results:\n",
      "Doc #1 (score: 0.3572): Title:\n",
      "KKO:2025:9\n",
      "Description:\n",
      "A oli osakeyhtiön t\n",
      "Doc #2 (score: 0.3417): Title:\n",
      "KKO:2025:16\n",
      "Description:\n",
      "A oli toiminut osa\n",
      "Doc #3 (score: 0.3257): Title:\n",
      "KKO:2025:13\n",
      "Description:\n",
      "Osakeyhtiön yhtiök\n"
     ]
    },
    {
     "data": {
      "image/png": "[encoded data removed]",
      "text/plain": [
       "<Figure size 640x480 with 1 Axes>"
      ]
     },
     "metadata": {},
     "output_type": "display_data"
    },
    {
     "name": "stdout",
     "output_type": "stream",
     "text": [
      "\n"
     ]
    },
    {
     "name": "stdout",
     "output_type": "stream",
     "text": [
      "Please Enter your query, type 'quit' to exit:  quit\n"
     ]
    },
    {
     "name": "stdout",
     "output_type": "stream",
     "text": [
      "Exit\n"
     ]
    }
   ],
   "source": [
    "def load_documents(file_path):\n",
    "    documents = []\n",
    "    with open(file_path, 'r', encoding='utf-8') as file:\n",
    "        data = json.load(file)\n",
    "        \n",
    "## This loop works on the sample database, but need to be modified if the keys change as the dadtabase develops\n",
    "## The metadata and link parts are left out but can be added if needed\n",
    "    for year, cases in data.items():\n",
    "        for case_info in cases.values():  \n",
    "            text_content = []\n",
    "            \n",
    "            if \"Title\" in case_info:\n",
    "                text_content.append(\"Title:\")  \n",
    "                text_content.append(case_info[\"Title\"])\n",
    "            \n",
    "            if \"Description\" in case_info:\n",
    "                text_content.append(\"Description:\")\n",
    "                text_content.extend(case_info[\"Description\"])\n",
    "            \n",
    "            for section in [\"Asian käsittely alemmissa oikeuksissa\", \"Muutoksenhaku Korkeimmassa oikeudessa\", \"Korkeimman oikeuden ratkaisu\"]:\n",
    "                if section in case_info and \"Contents\" in case_info[section]:\n",
    "                    text_content.append(f\"\\n{section}:\")\n",
    "                    text_content.extend(case_info[section][\"Contents\"])\n",
    "            \n",
    "            documents.append(\"\\n\".join(text_content))\n",
    "\n",
    "    return documents\n",
    "\n",
    "# Neural search function\n",
    "def neural_search(documents, user_input):\n",
    "    # Encode the documents and user query\n",
    "    doc_embeddings = model.encode(documents)  # Encode documents\n",
    "    query_embedding = model.encode(user_input)  # Encode user input\n",
    "    \n",
    "    # Calculate cosine similarities between the query and documents\n",
    "    cosine_similarities = np.dot(query_embedding, doc_embeddings.T)  # Calculate cosine similarities\n",
    "    ranked_doc_indices = np.argsort(cosine_similarities)[::-1]  # Rank hits (higher is better), Sort descending\n",
    "    \n",
    "    # Output the results (top 3 matches)\n",
    "    num_results = min(3, len(documents))  # Limit to top 3 results\n",
    "    print(f'Your query \"{user_input}\" matches {len(documents)} documents.')\n",
    "    print(f\"Here are the top {num_results} results:\")\n",
    "\n",
    "    # Collect results plotting\n",
    "    result_scores = []\n",
    "    result_titles = []\n",
    "    \n",
    "    for i in range(num_results):\n",
    "        doc_idx = ranked_doc_indices[i]\n",
    "        demo_doc = documents[doc_idx][:50]  # Display first 50 characters of the document content\n",
    "        print(f\"Doc #{i+1} (score: {cosine_similarities[doc_idx]:.4f}): {demo_doc}\")\n",
    "\n",
    "        # Extract the title from the document \n",
    "        doc_content = documents[doc_idx].split(\"\\n\")\n",
    "        title = doc_content[0].replace(\"Title:\", \"\").strip()  \n",
    "        case_id = doc_content[1].strip()  \n",
    "        \n",
    "        # Construct title as 'Case ID: Title'\n",
    "        full_title = f\"{case_id}{title}\"\n",
    "\n",
    "        # Collect data for visualization\n",
    "        result_scores.append(cosine_similarities[doc_idx])  # Store the similarity score\n",
    "        result_titles.append(full_title)\n",
    "    return result_scores, result_titles\n",
    "    \n",
    "def plotting(result_scores, result_titles):\n",
    "    # Visualize the results\n",
    "    plt.bar(result_titles, result_scores)\n",
    "    plt.xlabel('Document')\n",
    "    plt.ylabel('Match Score')\n",
    "    plt.title('Top Search Results')\n",
    "    plt.ylim(0.3)\n",
    "    plt.show()\n",
    "\n",
    "\n",
    "\n",
    "def user_query():\n",
    "    print()\n",
    "    user_input = input(\"Please Enter your query, type 'quit' to exit: \")\n",
    "    return user_input\n",
    "\n",
    "# tokenizer that applies stemming\n",
    "def stem_tokenizer(text):\n",
    "    tokens = re.findall(r'\\b\\w+\\b', text.lower())  \n",
    "    return [stemmer.stem(token) for token in tokens]  \n",
    "\n",
    "# Function to process the query (exact match for quoted phrases, stemming for other tokens)\n",
    "def process_query(query):\n",
    "    tokens = []\n",
    "    # This regex finds either \"something in quotes\" or individual words\n",
    "    pattern = r'\"(.*?)\"|(\\w+)'\n",
    "    for match in re.finditer(pattern, query):\n",
    "        if match.group(1):  # If token is in double quotes => exact match\n",
    "            tokens.append((match.group(1).lower(), True))\n",
    "        elif match.group(2):  # Otherwise, token is to be stemmed\n",
    "            tokens.append((match.group(2).lower(), False))\n",
    "    return tokens\n",
    "\n",
    "def input_checker(user_input):\n",
    "    if user_input == \"quit\" or user_input == \"\":\n",
    "        print(\"Exit\")\n",
    "        return False\n",
    "    return True\n",
    "\n",
    "\n",
    "\n",
    "def main():\n",
    "\n",
    "    file_path = 'sample_database.json'\n",
    "    documents = load_documents(file_path)\n",
    "\n",
    "    while True:\n",
    "        user_input = user_query()\n",
    "        if input_checker(user_input) == False: \n",
    "            break\n",
    "            \n",
    "        result_scores, result_titles = neural_search(documents, user_input)\n",
    "        plotting(result_scores, result_titles)\n",
    "\n",
    "# Run the main function\n",
    "if __name__ == \"__main__\":\n",
    "    main()"
   ]
  },
  {
   "cell_type": "code",
   "execution_count": null,
   "id": "6e9e8550-cdd5-4d51-9039-9bb7bb4e311e",
   "metadata": {},
   "outputs": [],
   "source": []
  }
 ],
 "metadata": {
  "kernelspec": {
   "display_name": "Python 3 (ipykernel)",
   "language": "python",
   "name": "python3"
  },
  "language_info": {
   "codemirror_mode": {
    "name": "ipython",
    "version": 3
   },
   "file_extension": ".py",
   "mimetype": "text/x-python",
   "name": "python",
   "nbconvert_exporter": "python",
   "pygments_lexer": "ipython3",
   "version": "3.12.3"
  }
 },
 "nbformat": 4,
 "nbformat_minor": 5
}
