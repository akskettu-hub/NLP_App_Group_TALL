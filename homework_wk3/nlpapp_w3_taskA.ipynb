{
 "cells": [
  {
   "cell_type": "code",
   "execution_count": 5,
   "id": "f154fcd5-3f0d-4769-8519-5ff440267c62",
   "metadata": {},
   "outputs": [
    {
     "name": "stderr",
     "output_type": "stream",
     "text": [
      "[nltk_data] Downloading package punkt_tab to /home/tkzang/nltk_data...\n",
      "[nltk_data]   Package punkt_tab is already up-to-date!\n"
     ]
    },
    {
     "name": "stdout",
     "output_type": "stream",
     "text": [
      "\n"
     ]
    },
    {
     "name": "stdin",
     "output_type": "stream",
     "text": [
      "Please Enter your query, type 'quit' to exit:  examples\n"
     ]
    },
    {
     "name": "stdout",
     "output_type": "stream",
     "text": [
      "\n",
      "Found 3 matches:\n",
      "The score of 'A better example' is 0.4738 (Document 2)\n",
      "The score of 'This is a silly example' is 0.3650 (Document 1)\n",
      "\n"
     ]
    },
    {
     "name": "stdin",
     "output_type": "stream",
     "text": [
      "Please Enter your query, type 'quit' to exit:  quit\n"
     ]
    },
    {
     "name": "stdout",
     "output_type": "stream",
     "text": [
      "\n",
      "Exit\n"
     ]
    }
   ],
   "source": [
    "# This script contains solution for task (a)\n",
    "import numpy as np\n",
    "from sklearn.feature_extraction.text import CountVectorizer, TfidfVectorizer\n",
    "# New dependencies and related stuff below:\n",
    "import nltk\n",
    "nltk.download('punkt_tab') # I need to do this on my computer, may not be required for everyone\n",
    "from nltk.stem import PorterStemmer \n",
    "from nltk import word_tokenize\n",
    "ps = PorterStemmer()\n",
    "\n",
    "### DATA\n",
    "\n",
    "example_documents = [\"This is a silly example\",\n",
    "                     \"A better example\",\n",
    "                     \"Nothing to see here\",\n",
    "                     \"This is a great and long example\"]\n",
    "small_wiki = \"wiki_files/enwiki-20181001-corpus.100-articles.txt\"\n",
    "large_wiki = \"wiki_files/enwiki-20181001-corpus.1000-articles.txt\"\n",
    "\n",
    "# This is the function for part 2 task a\n",
    "def stemming(documents):\n",
    "    tokens = word_tokenize(documents)  # Do tokenization first,\n",
    "    return [ps.stem(word) for word in tokens] \n",
    "\n",
    "# Document setup using TfidfVectorizer\n",
    "def tf_document_setup(documents):\n",
    "    tfv = TfidfVectorizer(tokenizer=stemming, lowercase=True, sublinear_tf=True, use_idf=True, norm=\"l2\") # add new parameter \"tokenizer\"\n",
    "    tf_matrix = tfv.fit_transform(documents).T.todense() \n",
    "    return tf_matrix, tfv\n",
    "\n",
    "def user_query():\n",
    "    print()\n",
    "    user_input = input(\"Please Enter your query, type 'quit' to exit: \")\n",
    "    print()\n",
    "    return user_input\n",
    "\n",
    "def input_checker(user_input):\n",
    "    if user_input == \"quit\" or user_input == \"\":\n",
    "           print(\"Exit\")\n",
    "           return False\n",
    "    return True\n",
    "\n",
    "# Compute cosine similarity scores\n",
    "def retrieve_matches(query, tf_matrix, tfv):\n",
    "    query_tf = tfv.transform([query]).todense()  # Convert query to tf-idf vector\n",
    "    scores = np.dot(query_tf, tf_matrix)  # Compute cosine similarity score\n",
    "    return scores\n",
    "\n",
    "def tf_print_retrieved(scores, documents):\n",
    "    if np.all(scores == 0):  \n",
    "        print(\"No matching document\")\n",
    "    else:\n",
    "        ranked_scores_and_doc_ids = sorted([(score, i) for i, score in enumerate(np.array(scores)[0]) if score > 0], reverse=True) # Rank the documents by similarity score\n",
    "        \n",
    "        print(f\"Found {len(ranked_scores_and_doc_ids)} matches:\")\n",
    "        \n",
    "        print_limit = 2  # Max number of results to display\n",
    "        for rank, (score, i) in enumerate(ranked_scores_and_doc_ids[:print_limit]):\n",
    "            print(f\"The score of '{documents[i]}' is {score:.4f} (Document {i + 1})\")\n",
    "            \n",
    "def main():\n",
    "    while True:\n",
    "        user_input = user_query()\n",
    "        if not input_checker(user_input):\n",
    "            break\n",
    "        scores = retrieve_matches(user_input, tf_matrix, tfv)\n",
    "        tf_print_retrieved(scores, example_documents)\n",
    "\n",
    "if __name__ == \"__main__\":\n",
    "    #documents = extract_wiki_articles(small_wiki) # Assign whatever list of strings you want to use as documents to this variable, comment this line if you don't want to use the small wiki\n",
    "    documents = example_documents # uncomment this line to use example_documents\n",
    "    tf_matrix, tfv = tf_document_setup(documents)  \n",
    "    main()\n"
   ]
  }
 ],
 "metadata": {
  "kernelspec": {
   "display_name": "Python 3 (ipykernel)",
   "language": "python",
   "name": "python3"
  },
  "language_info": {
   "codemirror_mode": {
    "name": "ipython",
    "version": 3
   },
   "file_extension": ".py",
   "mimetype": "text/x-python",
   "name": "python",
   "nbconvert_exporter": "python",
   "pygments_lexer": "ipython3",
   "version": "3.12.3"
  }
 },
 "nbformat": 4,
 "nbformat_minor": 5
}
