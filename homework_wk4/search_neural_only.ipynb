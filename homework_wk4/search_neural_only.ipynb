{
 "cells": [
  {
   "cell_type": "code",
   "execution_count": null,
   "id": "501398d0-fe72-4e37-bbb7-984bf2dc2d21",
   "metadata": {},
   "outputs": [],
   "source": [
    "## Dependencies for semantic/neural search:\n",
    "import numpy as np\n",
    "!pip install sentence-transformers\n",
    "# We use a pretrained model from https://huggingface.co/sentence-transformers/all-MiniLM-L6-v2\n",
    "from sentence_transformers import SentenceTransformer\n",
    "model = SentenceTransformer('all-MiniLM-L6-v2')  # We can change it to a better model if we find one\n"
   ]
  },
  {
   "cell_type": "code",
   "execution_count": 21,
   "id": "41b135d2-c5f1-47b6-bac2-c6c1c7af772f",
   "metadata": {},
   "outputs": [
    {
     "name": "stdout",
     "output_type": "stream",
     "text": [
      "\n"
     ]
    },
    {
     "name": "stdin",
     "output_type": "stream",
     "text": [
      "Please Enter your query, type 'quit' to exit:  edmund\n"
     ]
    },
    {
     "name": "stdout",
     "output_type": "stream",
     "text": [
      "Your query \"edmund\" matches 11002 documents.\n",
      "Here are the top 3 results:\n",
      "Doc #1 (score: 0.7401): Edmund Carpenter\n",
      "Doc #2 (score: 0.7093): Edmund Leach\n",
      "Doc #3 (score: 0.5513): Oscar Lewis\n",
      "\n"
     ]
    },
    {
     "name": "stdin",
     "output_type": "stream",
     "text": [
      "Please Enter your query, type 'quit' to exit:  quit\n"
     ]
    },
    {
     "name": "stdout",
     "output_type": "stream",
     "text": [
      "Exit\n"
     ]
    }
   ],
   "source": [
    "# load document for neural search\n",
    "def load_documents(file_path):\n",
    "    with open(file_path, 'r') as file:\n",
    "        documents = file.readlines()  # Read all lines in the file\n",
    "    documents = [doc.strip() for doc in documents]  # Remove any leading/trailing whitespace\n",
    "    return documents\n",
    "\n",
    "\n",
    "# Neural search function\n",
    "def neural_search(documents, user_input):\n",
    "    doc_embeddings = model.encode(documents)  # Encode documents\n",
    "    query_embedding = model.encode(user_input)  # Encode user input\n",
    "    \n",
    "    cosine_similarities = np.dot(query_embedding, doc_embeddings.T)  # Calculate cosine similarities\n",
    "    ranked_doc_indices = np.argsort(cosine_similarities)[::-1]  # Rank hits (higher is better), Sort descending\n",
    "    \n",
    "    # Output the results (top 3 matches)\n",
    "    num_results = min(3, len(documents))  # Limit to top 3 results\n",
    "    print(f'Your query \"{user_input}\" matches {len(documents)} documents.')\n",
    "    print(f\"Here are the top {num_results} results:\")\n",
    "    \n",
    "    for i in range(num_results):\n",
    "        doc_idx = ranked_doc_indices[i]\n",
    "        demo_doc = documents[doc_idx][:50]  # Display first 50 characters of the document content\n",
    "        print(f\"Doc #{i+1} (score: {cosine_similarities[doc_idx]:.4f}): {demo_doc}\")\n",
    "\n",
    "\n",
    "def user_query():\n",
    "    print()\n",
    "    user_input = input(\"Please Enter your query, type 'quit' to exit: \")\n",
    "    return user_input\n",
    "\n",
    "def input_checker(user_input):\n",
    "    if user_input == \"quit\" or user_input == \"\":\n",
    "        print(\"Exit\")\n",
    "        return False\n",
    "    return True\n",
    "\n",
    "def main():\n",
    "\n",
    "    small_wiki = 'enwiki-20181001-corpus.100-articles.txt'\n",
    "    documents = load_documents(filepath)\n",
    "\n",
    "    while True:\n",
    "        user_input = user_query()\n",
    "        if input_checker(user_input) == False: \n",
    "            break\n",
    "            \n",
    "        neural_search(documents, user_input)\n",
    "\n",
    "# Run the main function\n",
    "if __name__ == \"__main__\":\n",
    "    main()"
   ]
  },
  {
   "cell_type": "code",
   "execution_count": null,
   "id": "6c8432af-a3f8-4ca2-9e40-398ca88f499b",
   "metadata": {},
   "outputs": [],
   "source": []
  }
 ],
 "metadata": {
  "kernelspec": {
   "display_name": "Python 3 (ipykernel)",
   "language": "python",
   "name": "python3"
  },
  "language_info": {
   "codemirror_mode": {
    "name": "ipython",
    "version": 3
   },
   "file_extension": ".py",
   "mimetype": "text/x-python",
   "name": "python",
   "nbconvert_exporter": "python",
   "pygments_lexer": "ipython3",
   "version": "3.12.3"
  }
 },
 "nbformat": 4,
 "nbformat_minor": 5
}
